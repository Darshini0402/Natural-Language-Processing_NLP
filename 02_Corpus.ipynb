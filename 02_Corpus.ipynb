{
 "cells": [
  {
   "attachments": {},
   "cell_type": "markdown",
   "metadata": {},
   "source": [
    "Explore the corpora available in NLTK (any two) \n",
    "\n",
    "• Raw corpus\n",
    "\n",
    "• POS tagged\n",
    "\n",
    "• Parsed\n",
    "\n",
    "• Multilingual aligned\n",
    "\n",
    "• Spoken language\n",
    "\n",
    "• Semantic tagged"
   ]
  },
  {
   "cell_type": "code",
   "execution_count": 26,
   "metadata": {},
   "outputs": [
    {
     "name": "stderr",
     "output_type": "stream",
     "text": [
      "[nltk_data] Downloading package universal_tagset to\n",
      "[nltk_data]     C:\\Users\\darsh\\AppData\\Roaming\\nltk_data...\n",
      "[nltk_data]   Unzipping taggers\\universal_tagset.zip.\n"
     ]
    }
   ],
   "source": [
    "import nltk\n",
    "# nltk.download('punkt')\n",
    "# nltk.download('averaged_perceptron_tagger')\n",
    "# nltk.download('universal_tagset')\n",
    "from nltk.tokenize import word_tokenize, sent_tokenize\n",
    "from nltk.corpus import brown\n",
    "from nltk.probability import FreqDist"
   ]
  },
  {
   "attachments": {},
   "cell_type": "markdown",
   "metadata": {},
   "source": [
    "**POS Tagged**"
   ]
  },
  {
   "cell_type": "code",
   "execution_count": 18,
   "metadata": {},
   "outputs": [
    {
     "name": "stdout",
     "output_type": "stream",
     "text": [
      "[('The', 'DT'), ('sun', 'NN'), ('moves', 'VBZ'), ('slowly', 'RB'), ('to', 'TO'), ('hide', 'VB'), ('behind', 'IN'), ('the', 'DT'), ('line', 'NN'), ('of', 'IN'), ('horizon', 'NN'), (',', ','), ('while', 'IN'), ('the', 'DT'), ('moon', 'NN'), ('races', 'VBZ'), ('to', 'TO'), ('take', 'VB'), ('its', 'PRP$'), ('place', 'NN'), ('in', 'IN'), ('prominence', 'NN'), ('atop', 'IN'), ('the', 'DT'), ('night', 'NN'), ('sky', 'NN')]\n"
     ]
    }
   ],
   "source": [
    "text = word_tokenize(\"The sun moves slowly to hide behind the line of horizon, while the moon races to take its place in prominence atop the night sky\")\n",
    "print(nltk.pos_tag(text))"
   ]
  },
  {
   "cell_type": "code",
   "execution_count": 19,
   "metadata": {},
   "outputs": [
    {
     "data": {
      "text/plain": [
       "('sing', 'NN')"
      ]
     },
     "execution_count": 19,
     "metadata": {},
     "output_type": "execute_result"
    }
   ],
   "source": [
    "tagged_token = nltk.tag.str2tuple('sing/NN')\n",
    "tagged_token"
   ]
  },
  {
   "cell_type": "code",
   "execution_count": 21,
   "metadata": {},
   "outputs": [
    {
     "data": {
      "text/plain": [
       "[('The', 'AT'), ('Office', 'NN-TL'), ('of', 'IN-TL'), ...]"
      ]
     },
     "execution_count": 21,
     "metadata": {},
     "output_type": "execute_result"
    }
   ],
   "source": [
    "nltk.corpus.brown.tagged_words(categories='government')"
   ]
  },
  {
   "cell_type": "code",
   "execution_count": 29,
   "metadata": {},
   "outputs": [
    {
     "name": "stdout",
     "output_type": "stream",
     "text": [
      "[('NOUN', 19486), ('ADP', 10221), ('VERB', 9872), ('DET', 8043), ('.', 7598), ('ADJ', 5692), ('CONJ', 2560), ('ADV', 2333), ('NUM', 1612), ('PRT', 1358), ('PRON', 1269), ('X', 73)]\n"
     ]
    },
    {
     "data": {
      "image/png": "[encoded data removed]",
      "text/plain": [
       "<Figure size 432x288 with 1 Axes>"
      ]
     },
     "metadata": {
      "needs_background": "light"
     },
     "output_type": "display_data"
    },
    {
     "data": {
      "text/plain": [
       "<AxesSubplot:xlabel='Samples', ylabel='Counts'>"
      ]
     },
     "execution_count": 29,
     "metadata": {},
     "output_type": "execute_result"
    }
   ],
   "source": [
    "TaggedWords = brown.tagged_words(categories='government', tagset='universal')\n",
    "TaggedFrequencyDist = nltk.FreqDist(tag for (word, tag) in TaggedWords)\n",
    "print(TaggedFrequencyDist.most_common())\n",
    "\n",
    "TaggedFrequencyDist.plot()"
   ]
  },
  {
   "attachments": {},
   "cell_type": "markdown",
   "metadata": {},
   "source": [
    "**Parsed**"
   ]
  },
  {
   "cell_type": "code",
   "execution_count": 54,
   "metadata": {},
   "outputs": [],
   "source": [
    "grammar = nltk.CFG.fromstring(\"\"\"\n",
    "    S -> NP VP\n",
    "    NP -> Det NP | Det N\n",
    "    VP -> V NP\n",
    "    N -> \"monkey\" | \"banana\"\n",
    "    Det -> \"the\"\n",
    "    V -> \"ate\"\n",
    "\"\"\")"
   ]
  },
  {
   "cell_type": "code",
   "execution_count": 55,
   "metadata": {},
   "outputs": [
    {
     "name": "stdout",
     "output_type": "stream",
     "text": [
      "(S (NP (Det the) (N monkey)) (VP (V ate) (NP (Det the) (N banana))))\n"
     ]
    }
   ],
   "source": [
    "sentence = \"The monkey ate the banana\".lower().split()\n",
    "rd_parser = nltk.RecursiveDescentParser(grammar)\n",
    "for tree in rd_parser.parse(sentence):\n",
    "    print(tree)"
   ]
  },
  {
   "cell_type": "code",
   "execution_count": 43,
   "metadata": {},
   "outputs": [],
   "source": [
    "grammar1 = nltk.CFG.fromstring(\"\"\"\n",
    "  S -> NP VP\n",
    "  VP -> V NP | V NP PP\n",
    "  PP -> P NP\n",
    "  V -> \"saw\" | \"ate\" | \"walked\" \n",
    "  NP -> \"John\" | \"Mary\" | \"Bob\" | Det N | Det N PP\n",
    "  Det -> \"a\" | \"an\" | \"the\" | \"my\"\n",
    "  N -> \"man\" | \"dog\" | \"cat\" | \"telescope\" | \"park\"\n",
    "  P -> \"in\" | \"on\" | \"by\" | \"with\" | \"named\"\n",
    "  \"\"\")"
   ]
  },
  {
   "cell_type": "code",
   "execution_count": 45,
   "metadata": {},
   "outputs": [
    {
     "name": "stdout",
     "output_type": "stream",
     "text": [
      "(S\n",
      "  (NP John)\n",
      "  (VP\n",
      "    (V saw)\n",
      "    (NP (Det a) (N man) (PP (P named) (NP Bob)))\n",
      "    (PP\n",
      "      (P with)\n",
      "      (NP (Det a) (N telescope) (PP (P in) (NP (Det the) (N park)))))))\n"
     ]
    }
   ],
   "source": [
    "sent = \"John saw a man named Bob with a telescope in the park\".split()\n",
    "rd_parser = nltk.RecursiveDescentParser(grammar1)\n",
    "for tree in rd_parser.parse(sent):\n",
    "    print(tree)"
   ]
  }
 ],
 "metadata": {
  "kernelspec": {
   "display_name": "base",
   "language": "python",
   "name": "python3"
  },
  "language_info": {
   "codemirror_mode": {
    "name": "ipython",
    "version": 3
   },
   "file_extension": ".py",
   "mimetype": "text/x-python",
   "name": "python",
   "nbconvert_exporter": "python",
   "pygments_lexer": "ipython3",
   "version": "3.9.12"
  },
  "orig_nbformat": 4,
  "vscode": {
   "interpreter": {
    "hash": "4b364cb0efb2e8f1848db57652adf6c7915ae4a4f54bc1cd1c0717e1cad4299e"
   }
  }
 },
 "nbformat": 4,
 "nbformat_minor": 2
}
