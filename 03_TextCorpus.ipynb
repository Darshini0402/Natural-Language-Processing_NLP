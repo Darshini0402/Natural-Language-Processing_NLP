{
 "cells": [
  {
   "attachments": {},
   "cell_type": "markdown",
   "metadata": {},
   "source": [
    "## **Digital Assignment 1**\n",
    "## **Darshini. R - 20BCE1054**"
   ]
  },
  {
   "attachments": {},
   "cell_type": "markdown",
   "metadata": {},
   "source": [
    "### 3. Create a text corpus with a minimum of 200 words (unique content). Implement the following text processing\n",
    "* Word segmentation\n",
    "* Sentence segmentation\n",
    "* Convert to Lowercase\n",
    "* Stop words removal\n",
    "* Stemming\n",
    "* Lemmatization\n",
    "* Part of speech tagger"
   ]
  },
  {
   "cell_type": "code",
   "execution_count": 2,
   "metadata": {},
   "outputs": [],
   "source": [
    "import nltk\n",
    "from nltk.tokenize import word_tokenize, sent_tokenize\n",
    "from nltk.corpus import stopwords\n",
    "from nltk.stem import SnowballStemmer, WordNetLemmatizer\n",
    "#nltk.download('stopwords')\n",
    "#nltk.download('wordnet')\n",
    "#nltk.download('omw-1.4')"
   ]
  },
  {
   "cell_type": "code",
   "execution_count": 3,
   "metadata": {},
   "outputs": [
    {
     "name": "stdout",
     "output_type": "stream",
     "text": [
      "Content:  On one corner of my dresser sits a smiling toy clown on a tiny unicycle―a gift I received last Christmas from a close friend. The clown's short yellow hair, made of yarn, covers its ears but is parted above the eyes. The blue eyes are outlined in black with thin, dark lashes flowing from the brows. It has cherry-red cheeks, nose, and lips, and its broad grin disappears into the wide, white ruffle around its neck. The clown wears a fluffy, two-tone nylon costume. The left side of the outfit is light blue, and the right side is red. The two colors merge in a dark line that runs down the center of the small outfit. Surrounding its ankles and disguising its long black shoes are big pink bows. The white spokes on the wheels of the unicycle gather in the center and expand to the black tire so that the wheel somewhat resembles the inner half of a grapefruit. The clown and unicycle together stand about a foot high. As a cherished gift from my good friend Tran, this colorful figure greets me with a smile every time I enter my room.\n",
      "Number of words:  215\n"
     ]
    }
   ],
   "source": [
    "TextContent = \"On one corner of my dresser sits a smiling toy clown on a tiny unicycle―a gift I received last Christmas from a close friend. The clown's short yellow hair, made of yarn, covers its ears but is parted above the eyes. The blue eyes are outlined in black with thin, dark lashes flowing from the brows. It has cherry-red cheeks, nose, and lips, and its broad grin disappears into the wide, white ruffle around its neck. The clown wears a fluffy, two-tone nylon costume. The left side of the outfit is light blue, and the right side is red. The two colors merge in a dark line that runs down the center of the small outfit. Surrounding its ankles and disguising its long black shoes are big pink bows. The white spokes on the wheels of the unicycle gather in the center and expand to the black tire so that the wheel somewhat resembles the inner half of a grapefruit. The clown and unicycle together stand about a foot high. As a cherished gift from my good friend Tran, this colorful figure greets me with a smile every time I enter my room.\"\n",
    "print(\"Content: \",TextContent)\n",
    "print(\"Number of words: \",len(word_tokenize(TextContent)))"
   ]
  },
  {
   "attachments": {},
   "cell_type": "markdown",
   "metadata": {},
   "source": [
    "### **Word Segmentation**"
   ]
  },
  {
   "cell_type": "code",
   "execution_count": 11,
   "metadata": {},
   "outputs": [
    {
     "name": "stdout",
     "output_type": "stream",
     "text": [
      "['On', 'one', 'corner', 'of', 'my', 'dresser', 'sits', 'a', 'smiling', 'toy', 'clown', 'on', 'a', 'tiny', 'unicycle―a', 'gift', 'I', 'received', 'last', 'Christmas', 'from', 'a', 'close', 'friend', '.', 'The', 'clown', \"'s\", 'short', 'yellow', 'hair', ',', 'made', 'of', 'yarn', ',', 'covers', 'its', 'ears', 'but', 'is', 'parted', 'above', 'the', 'eyes', '.', 'The', 'blue', 'eyes', 'are', 'outlined', 'in', 'black', 'with', 'thin', ',', 'dark', 'lashes', 'flowing', 'from', 'the', 'brows', '.', 'It', 'has', 'cherry-red', 'cheeks', ',', 'nose', ',', 'and', 'lips', ',', 'and', 'its', 'broad', 'grin', 'disappears', 'into', 'the', 'wide', ',', 'white', 'ruffle', 'around', 'its', 'neck', '.', 'The', 'clown', 'wears', 'a', 'fluffy', ',', 'two-tone', 'nylon', 'costume', '.', 'The', 'left', 'side', 'of', 'the', 'outfit', 'is', 'light', 'blue', ',', 'and', 'the', 'right', 'side', 'is', 'red', '.', 'The', 'two', 'colors', 'merge', 'in', 'a', 'dark', 'line', 'that', 'runs', 'down', 'the', 'center', 'of', 'the', 'small', 'outfit', '.', 'Surrounding', 'its', 'ankles', 'and', 'disguising', 'its', 'long', 'black', 'shoes', 'are', 'big', 'pink', 'bows', '.', 'The', 'white', 'spokes', 'on', 'the', 'wheels', 'of', 'the', 'unicycle', 'gather', 'in', 'the', 'center', 'and', 'expand', 'to', 'the', 'black', 'tire', 'so', 'that', 'the', 'wheel', 'somewhat', 'resembles', 'the', 'inner', 'half', 'of', 'a', 'grapefruit', '.', 'The', 'clown', 'and', 'unicycle', 'together', 'stand', 'about', 'a', 'foot', 'high', '.', 'As', 'a', 'cherished', 'gift', 'from', 'my', 'good', 'friend', 'Tran', ',', 'this', 'colorful', 'figure', 'greets', 'me', 'with', 'a', 'smile', 'every', 'time', 'I', 'enter', 'my', 'room', '.']\n",
      "215\n"
     ]
    }
   ],
   "source": [
    "WordTokenize = word_tokenize(TextContent)\n",
    "print(WordTokenize)\n",
    "print(len(WordTokenize))"
   ]
  },
  {
   "attachments": {},
   "cell_type": "markdown",
   "metadata": {},
   "source": [
    "### **Sentence Segmentation**"
   ]
  },
  {
   "cell_type": "code",
   "execution_count": 12,
   "metadata": {},
   "outputs": [
    {
     "name": "stdout",
     "output_type": "stream",
     "text": [
      "['On one corner of my dresser sits a smiling toy clown on a tiny unicycle―a gift I received last Christmas from a close friend.', \"The clown's short yellow hair, made of yarn, covers its ears but is parted above the eyes.\", 'The blue eyes are outlined in black with thin, dark lashes flowing from the brows.', 'It has cherry-red cheeks, nose, and lips, and its broad grin disappears into the wide, white ruffle around its neck.', 'The clown wears a fluffy, two-tone nylon costume.', 'The left side of the outfit is light blue, and the right side is red.', 'The two colors merge in a dark line that runs down the center of the small outfit.', 'Surrounding its ankles and disguising its long black shoes are big pink bows.', 'The white spokes on the wheels of the unicycle gather in the center and expand to the black tire so that the wheel somewhat resembles the inner half of a grapefruit.', 'The clown and unicycle together stand about a foot high.', 'As a cherished gift from my good friend Tran, this colorful figure greets me with a smile every time I enter my room.']\n",
      "11\n"
     ]
    }
   ],
   "source": [
    "SentenceTokenize = sent_tokenize(TextContent)\n",
    "print(SentenceTokenize)\n",
    "print(len(SentenceTokenize))"
   ]
  },
  {
   "attachments": {},
   "cell_type": "markdown",
   "metadata": {},
   "source": [
    "### **Convert to Lowercase**"
   ]
  },
  {
   "cell_type": "code",
   "execution_count": 13,
   "metadata": {},
   "outputs": [
    {
     "name": "stdout",
     "output_type": "stream",
     "text": [
      "on one corner of my dresser sits a smiling toy clown on a tiny unicycle―a gift i received last christmas from a close friend. the clown's short yellow hair, made of yarn, covers its ears but is parted above the eyes. the blue eyes are outlined in black with thin, dark lashes flowing from the brows. it has cherry-red cheeks, nose, and lips, and its broad grin disappears into the wide, white ruffle around its neck. the clown wears a fluffy, two-tone nylon costume. the left side of the outfit is light blue, and the right side is red. the two colors merge in a dark line that runs down the center of the small outfit. surrounding its ankles and disguising its long black shoes are big pink bows. the white spokes on the wheels of the unicycle gather in the center and expand to the black tire so that the wheel somewhat resembles the inner half of a grapefruit. the clown and unicycle together stand about a foot high. as a cherished gift from my good friend tran, this colorful figure greets me with a smile every time i enter my room.\n"
     ]
    }
   ],
   "source": [
    "LowerCaseText = TextContent.lower()\n",
    "print(LowerCaseText)"
   ]
  },
  {
   "attachments": {},
   "cell_type": "markdown",
   "metadata": {},
   "source": [
    "### **Stop words removal**"
   ]
  },
  {
   "cell_type": "code",
   "execution_count": 17,
   "metadata": {},
   "outputs": [
    {
     "name": "stdout",
     "output_type": "stream",
     "text": [
      "['On', 'one', 'corner', 'dresser', 'sits', 'smiling', 'toy', 'clown', 'tiny', 'unicycle―a', 'gift', 'I', 'received', 'last', 'Christmas', 'close', 'friend', '.', 'The', 'clown', \"'s\", 'short', 'yellow', 'hair', ',', 'made', 'yarn', ',', 'covers', 'ears', 'parted', 'eyes', '.', 'The', 'blue', 'eyes', 'outlined', 'black', 'thin', ',', 'dark', 'lashes', 'flowing', 'brows', '.', 'It', 'cherry-red', 'cheeks', ',', 'nose', ',', 'lips', ',', 'broad', 'grin', 'disappears', 'wide', ',', 'white', 'ruffle', 'around', 'neck', '.', 'The', 'clown', 'wears', 'fluffy', ',', 'two-tone', 'nylon', 'costume', '.', 'The', 'left', 'side', 'outfit', 'light', 'blue', ',', 'right', 'side', 'red', '.', 'The', 'two', 'colors', 'merge', 'dark', 'line', 'runs', 'center', 'small', 'outfit', '.', 'Surrounding', 'ankles', 'disguising', 'long', 'black', 'shoes', 'big', 'pink', 'bows', '.', 'The', 'white', 'spokes', 'wheels', 'unicycle', 'gather', 'center', 'expand', 'black', 'tire', 'wheel', 'somewhat', 'resembles', 'inner', 'half', 'grapefruit', '.', 'The', 'clown', 'unicycle', 'together', 'stand', 'foot', 'high', '.', 'As', 'cherished', 'gift', 'good', 'friend', 'Tran', ',', 'colorful', 'figure', 'greets', 'smile', 'every', 'time', 'I', 'enter', 'room', '.']\n"
     ]
    }
   ],
   "source": [
    "StopWords = stopwords.words('english')\n",
    "TextWithoutStopWords = [ word for word in WordTokenize if word not in StopWords]\n",
    "print(TextWithoutStopWords)"
   ]
  },
  {
   "attachments": {},
   "cell_type": "markdown",
   "metadata": {},
   "source": [
    "### **Stemming**"
   ]
  },
  {
   "cell_type": "code",
   "execution_count": 19,
   "metadata": {},
   "outputs": [
    {
     "name": "stdout",
     "output_type": "stream",
     "text": [
      "['on', 'one', 'corner', 'of', 'my', 'dresser', 'sit', 'a', 'smile', 'toy', 'clown', 'on', 'a', 'tini', 'unicycle―a', 'gift', 'i', 'receiv', 'last', 'christma', 'from', 'a', 'close', 'friend', '.', 'the', 'clown', \"'s\", 'short', 'yellow', 'hair', ',', 'made', 'of', 'yarn', ',', 'cover', 'it', 'ear', 'but', 'is', 'part', 'abov', 'the', 'eye', '.', 'the', 'blue', 'eye', 'are', 'outlin', 'in', 'black', 'with', 'thin', ',', 'dark', 'lash', 'flow', 'from', 'the', 'brow', '.', 'it', 'has', 'cherry-r', 'cheek', ',', 'nose', ',', 'and', 'lip', ',', 'and', 'it', 'broad', 'grin', 'disappear', 'into', 'the', 'wide', ',', 'white', 'ruffl', 'around', 'it', 'neck', '.', 'the', 'clown', 'wear', 'a', 'fluffi', ',', 'two-ton', 'nylon', 'costum', '.', 'the', 'left', 'side', 'of', 'the', 'outfit', 'is', 'light', 'blue', ',', 'and', 'the', 'right', 'side', 'is', 'red', '.', 'the', 'two', 'color', 'merg', 'in', 'a', 'dark', 'line', 'that', 'run', 'down', 'the', 'center', 'of', 'the', 'small', 'outfit', '.', 'surround', 'it', 'ankl', 'and', 'disguis', 'it', 'long', 'black', 'shoe', 'are', 'big', 'pink', 'bow', '.', 'the', 'white', 'spoke', 'on', 'the', 'wheel', 'of', 'the', 'unicycl', 'gather', 'in', 'the', 'center', 'and', 'expand', 'to', 'the', 'black', 'tire', 'so', 'that', 'the', 'wheel', 'somewhat', 'resembl', 'the', 'inner', 'half', 'of', 'a', 'grapefruit', '.', 'the', 'clown', 'and', 'unicycl', 'togeth', 'stand', 'about', 'a', 'foot', 'high', '.', 'as', 'a', 'cherish', 'gift', 'from', 'my', 'good', 'friend', 'tran', ',', 'this', 'color', 'figur', 'greet', 'me', 'with', 'a', 'smile', 'everi', 'time', 'i', 'enter', 'my', 'room', '.']\n"
     ]
    }
   ],
   "source": [
    "Stemmer = SnowballStemmer('english')\n",
    "StemmedWords = [Stemmer.stem(word) for word in WordTokenize]\n",
    "print(StemmedWords)"
   ]
  },
  {
   "attachments": {},
   "cell_type": "markdown",
   "metadata": {},
   "source": [
    "### **Lemmatization**"
   ]
  },
  {
   "cell_type": "code",
   "execution_count": 25,
   "metadata": {},
   "outputs": [
    {
     "name": "stdout",
     "output_type": "stream",
     "text": [
      "['On', 'one', 'corner', 'of', 'my', 'dresser', 'sits', 'a', 'smiling', 'toy', 'clown', 'on', 'a', 'tiny', 'unicycle―a', 'gift', 'I', 'received', 'last', 'Christmas', 'from', 'a', 'close', 'friend', '.', 'The', 'clown', \"'s\", 'short', 'yellow', 'hair', ',', 'made', 'of', 'yarn', ',', 'cover', 'it', 'ear', 'but', 'is', 'parted', 'above', 'the', 'eye', '.', 'The', 'blue', 'eye', 'are', 'outlined', 'in', 'black', 'with', 'thin', ',', 'dark', 'lash', 'flowing', 'from', 'the', 'brow', '.', 'It', 'ha', 'cherry-red', 'cheek', ',', 'nose', ',', 'and', 'lip', ',', 'and', 'it', 'broad', 'grin', 'disappears', 'into', 'the', 'wide', ',', 'white', 'ruffle', 'around', 'it', 'neck', '.', 'The', 'clown', 'wear', 'a', 'fluffy', ',', 'two-tone', 'nylon', 'costume', '.', 'The', 'left', 'side', 'of', 'the', 'outfit', 'is', 'light', 'blue', ',', 'and', 'the', 'right', 'side', 'is', 'red', '.', 'The', 'two', 'color', 'merge', 'in', 'a', 'dark', 'line', 'that', 'run', 'down', 'the', 'center', 'of', 'the', 'small', 'outfit', '.', 'Surrounding', 'it', 'ankle', 'and', 'disguising', 'it', 'long', 'black', 'shoe', 'are', 'big', 'pink', 'bow', '.', 'The', 'white', 'spoke', 'on', 'the', 'wheel', 'of', 'the', 'unicycle', 'gather', 'in', 'the', 'center', 'and', 'expand', 'to', 'the', 'black', 'tire', 'so', 'that', 'the', 'wheel', 'somewhat', 'resembles', 'the', 'inner', 'half', 'of', 'a', 'grapefruit', '.', 'The', 'clown', 'and', 'unicycle', 'together', 'stand', 'about', 'a', 'foot', 'high', '.', 'As', 'a', 'cherished', 'gift', 'from', 'my', 'good', 'friend', 'Tran', ',', 'this', 'colorful', 'figure', 'greets', 'me', 'with', 'a', 'smile', 'every', 'time', 'I', 'enter', 'my', 'room', '.']\n"
     ]
    }
   ],
   "source": [
    "Lemmatizer = WordNetLemmatizer()\n",
    "LemmatizedWords = [Lemmatizer.lemmatize(word) for word in WordTokenize]\n",
    "print(LemmatizedWords)"
   ]
  },
  {
   "attachments": {},
   "cell_type": "markdown",
   "metadata": {},
   "source": [
    "### **Part of Speech Tagger**"
   ]
  },
  {
   "cell_type": "code",
   "execution_count": 26,
   "metadata": {},
   "outputs": [
    {
     "name": "stdout",
     "output_type": "stream",
     "text": [
      "[('On', 'IN'), ('one', 'CD'), ('corner', 'NN'), ('of', 'IN'), ('my', 'PRP$'), ('dresser', 'NN'), ('sits', 'VBZ'), ('a', 'DT'), ('smiling', 'VBG'), ('toy', 'NN'), ('clown', 'VBN'), ('on', 'IN'), ('a', 'DT'), ('tiny', 'JJ'), ('unicycle―a', 'JJ'), ('gift', 'NN'), ('I', 'PRP'), ('received', 'VBD'), ('last', 'JJ'), ('Christmas', 'NNP'), ('from', 'IN'), ('a', 'DT'), ('close', 'JJ'), ('friend', 'NN'), ('.', '.'), ('The', 'DT'), ('clown', 'NN'), (\"'s\", 'POS'), ('short', 'JJ'), ('yellow', 'JJ'), ('hair', 'NN'), (',', ','), ('made', 'VBN'), ('of', 'IN'), ('yarn', 'NN'), (',', ','), ('covers', 'VBZ'), ('its', 'PRP$'), ('ears', 'NNS'), ('but', 'CC'), ('is', 'VBZ'), ('parted', 'VBN'), ('above', 'IN'), ('the', 'DT'), ('eyes', 'NNS'), ('.', '.'), ('The', 'DT'), ('blue', 'JJ'), ('eyes', 'NNS'), ('are', 'VBP'), ('outlined', 'VBN'), ('in', 'IN'), ('black', 'JJ'), ('with', 'IN'), ('thin', 'JJ'), (',', ','), ('dark', 'JJ'), ('lashes', 'NNS'), ('flowing', 'VBG'), ('from', 'IN'), ('the', 'DT'), ('brows', 'NNS'), ('.', '.'), ('It', 'PRP'), ('has', 'VBZ'), ('cherry-red', 'JJ'), ('cheeks', 'NNS'), (',', ','), ('nose', 'RB'), (',', ','), ('and', 'CC'), ('lips', 'NNS'), (',', ','), ('and', 'CC'), ('its', 'PRP$'), ('broad', 'JJ'), ('grin', 'NN'), ('disappears', 'VBZ'), ('into', 'IN'), ('the', 'DT'), ('wide', 'JJ'), (',', ','), ('white', 'JJ'), ('ruffle', 'NN'), ('around', 'IN'), ('its', 'PRP$'), ('neck', 'NN'), ('.', '.'), ('The', 'DT'), ('clown', 'JJ'), ('wears', 'VBZ'), ('a', 'DT'), ('fluffy', 'NN'), (',', ','), ('two-tone', 'JJ'), ('nylon', 'NN'), ('costume', 'NN'), ('.', '.'), ('The', 'DT'), ('left', 'JJ'), ('side', 'NN'), ('of', 'IN'), ('the', 'DT'), ('outfit', 'NN'), ('is', 'VBZ'), ('light', 'JJ'), ('blue', 'NN'), (',', ','), ('and', 'CC'), ('the', 'DT'), ('right', 'JJ'), ('side', 'NN'), ('is', 'VBZ'), ('red', 'JJ'), ('.', '.'), ('The', 'DT'), ('two', 'CD'), ('colors', 'NNS'), ('merge', 'VBP'), ('in', 'IN'), ('a', 'DT'), ('dark', 'JJ'), ('line', 'NN'), ('that', 'IN'), ('runs', 'VBZ'), ('down', 'RB'), ('the', 'DT'), ('center', 'NN'), ('of', 'IN'), ('the', 'DT'), ('small', 'JJ'), ('outfit', 'NN'), ('.', '.'), ('Surrounding', 'VBG'), ('its', 'PRP$'), ('ankles', 'NNS'), ('and', 'CC'), ('disguising', 'VBG'), ('its', 'PRP$'), ('long', 'JJ'), ('black', 'JJ'), ('shoes', 'NNS'), ('are', 'VBP'), ('big', 'JJ'), ('pink', 'NN'), ('bows', 'NNS'), ('.', '.'), ('The', 'DT'), ('white', 'JJ'), ('spokes', 'NNS'), ('on', 'IN'), ('the', 'DT'), ('wheels', 'NNS'), ('of', 'IN'), ('the', 'DT'), ('unicycle', 'NN'), ('gather', 'NN'), ('in', 'IN'), ('the', 'DT'), ('center', 'NN'), ('and', 'CC'), ('expand', 'NN'), ('to', 'TO'), ('the', 'DT'), ('black', 'JJ'), ('tire', 'NN'), ('so', 'IN'), ('that', 'IN'), ('the', 'DT'), ('wheel', 'NN'), ('somewhat', 'RB'), ('resembles', 'VBZ'), ('the', 'DT'), ('inner', 'JJ'), ('half', 'NN'), ('of', 'IN'), ('a', 'DT'), ('grapefruit', 'NN'), ('.', '.'), ('The', 'DT'), ('clown', 'NN'), ('and', 'CC'), ('unicycle', 'NN'), ('together', 'RB'), ('stand', 'VBP'), ('about', 'IN'), ('a', 'DT'), ('foot', 'NN'), ('high', 'JJ'), ('.', '.'), ('As', 'IN'), ('a', 'DT'), ('cherished', 'JJ'), ('gift', 'NN'), ('from', 'IN'), ('my', 'PRP$'), ('good', 'JJ'), ('friend', 'NN'), ('Tran', 'NNP'), (',', ','), ('this', 'DT'), ('colorful', 'JJ'), ('figure', 'NN'), ('greets', 'NNS'), ('me', 'PRP'), ('with', 'IN'), ('a', 'DT'), ('smile', 'JJ'), ('every', 'DT'), ('time', 'NN'), ('I', 'PRP'), ('enter', 'VBP'), ('my', 'PRP$'), ('room', 'NN'), ('.', '.')]\n"
     ]
    }
   ],
   "source": [
    "POSTagged = nltk.pos_tag(WordTokenize)\n",
    "print(POSTagged)"
   ]
  }
 ],
 "metadata": {
  "kernelspec": {
   "display_name": "base",
   "language": "python",
   "name": "python3"
  },
  "language_info": {
   "codemirror_mode": {
    "name": "ipython",
    "version": 3
   },
   "file_extension": ".py",
   "mimetype": "text/x-python",
   "name": "python",
   "nbconvert_exporter": "python",
   "pygments_lexer": "ipython3",
   "version": "3.9.12"
  },
  "orig_nbformat": 4,
  "vscode": {
   "interpreter": {
    "hash": "4b364cb0efb2e8f1848db57652adf6c7915ae4a4f54bc1cd1c0717e1cad4299e"
   }
  }
 },
 "nbformat": 4,
 "nbformat_minor": 2
}
